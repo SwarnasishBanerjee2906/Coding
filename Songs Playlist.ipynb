{
 "cells": [
  {
   "cell_type": "code",
   "execution_count": 6,
   "id": "8b9ff6da",
   "metadata": {},
   "outputs": [],
   "source": [
    "import os  \n",
    "os.chdir(r'C:\\Users\\Desktop\\Documents')  #importing Files"
   ]
  },
  {
   "cell_type": "code",
   "execution_count": 7,
   "id": "147c5e94",
   "metadata": {},
   "outputs": [],
   "source": [
    "def playlist(Singer,play_song=0,playtime_interval=15,Songs_stop_no=-1,playlist_option=\"Next\"):\n",
    "    #creating a playlist of music video from utube\n",
    "    import time\n",
    "    import webbrowser\n",
    "    import random\n",
    "    playlist={}\n",
    "    fhand=open(\"%s Songs.txt\"%Singer)\n",
    "    for line in fhand:\n",
    "    #creating a for loop to update songs along with its webbrowsing link in the blank above dictionary     \n",
    "        line=line.rstrip()\n",
    "        playlist.update({line[:line.find(\":\")]:line[(line.find(\":\")+1):]})\n",
    "    playlist_l=list(playlist.keys())   #making a list of the above songs\n",
    "    song_no=0\n",
    "    def count(songs):\n",
    "    #creating a funtion count to find the indices of the listed songs    \n",
    "        c=-1\n",
    "        for song in playlist_l:\n",
    "            c+=1\n",
    "            if songs==song:\n",
    "                break\n",
    "        return c    \n",
    "    if play_song==0:  #creating a default start for the music track \n",
    "        play_song=playlist_l[0]\n",
    "    if Songs_stop_no==-1:\n",
    "        Songs_stop_no=len(playlist_l)+1   \n",
    "    song_index=count(play_song)\n",
    "    if playlist_option=='Next':\n",
    "        print(play_song)\n",
    "        webbrowser.open(playlist[play_song])\n",
    "        song_no=1\n",
    "        for key in playlist_l[(song_index+1)::1]:\n",
    "        #creating a for loop to pogram the music track while having 'next' option   \n",
    "            time.sleep(playtime_interval) \n",
    "            print(key)\n",
    "            webbrowser.open(playlist[key])\n",
    "            song_no+=1\n",
    "            if song_no==Songs_stop_no:#creating stop rule for the track\n",
    "                break\n",
    "    elif playlist_option=='Previous':\n",
    "        print(play_song)\n",
    "        webbrowser.open(playlist[play_song])\n",
    "        song_no=1\n",
    "        for key in playlist_l[(song_index-1)::(-1)]:\n",
    "        #creating a for loop to pogram the music track while having 'previous' option     \n",
    "            time.sleep(playtime_interval) \n",
    "            print(key)\n",
    "            webbrowser.open(playlist[key])  \n",
    "            song_no+=1\n",
    "            if song_no==Songs_stop_no:#creating stop rule for the track\n",
    "                break\n",
    "    elif playlist_option=='Shuffle':\n",
    "        print(play_song)\n",
    "        webbrowser.open(playlist[play_song])\n",
    "        playlist_l.remove(play_song)\n",
    "        song_no=1\n",
    "        for key in playlist:\n",
    "        #creating a for loop to pogram the music track while having 'shuffle' option     \n",
    "            time.sleep(playtime_interval)    \n",
    "            key=random.choice(playlist_l)\n",
    "            print(key)\n",
    "            webbrowser.open(playlist[key])\n",
    "            playlist_l.remove(key)\n",
    "            song_no+=1\n",
    "            if song_no==Songs_stop_no:#creating stop rule for the track\n",
    "                break\n",
    "            if playlist_l==[]:\n",
    "                break\n",
    "               \n",
    "\n"
   ]
  },
  {
   "cell_type": "code",
   "execution_count": 12,
   "id": "07975664",
   "metadata": {},
   "outputs": [
    {
     "name": "stdout",
     "output_type": "stream",
     "text": [
      "Bahara\n",
      "Ghoomar\n"
     ]
    }
   ],
   "source": [
    "playlist(\"Shreya Ghoshal\",\"Bahara\",20,2,\"Shuffle\")"
   ]
  }
 ],
 "metadata": {
  "kernelspec": {
   "display_name": "Python 3",
   "language": "python",
   "name": "python3"
  },
  "language_info": {
   "codemirror_mode": {
    "name": "ipython",
    "version": 3
   },
   "file_extension": ".py",
   "mimetype": "text/x-python",
   "name": "python",
   "nbconvert_exporter": "python",
   "pygments_lexer": "ipython3",
   "version": "3.8.8"
  }
 },
 "nbformat": 4,
 "nbformat_minor": 5
}
